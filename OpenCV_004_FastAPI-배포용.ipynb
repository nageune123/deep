{
 "cells": [
  {
   "cell_type": "markdown",
   "metadata": {},
   "source": [
    "<img src=\"./lecture_image/00_title.png\">"
   ]
  },
  {
   "cell_type": "markdown",
   "metadata": {},
   "source": [
    "<table border=1 width=100%>\n",
    "    <tr><td style=\"border: 1px solid black; width:600px; height:40px; text-align: center;\"><font size=4 color=blue><b>[4차시] 학습목표</b></font></td></tr>       \n",
    "    <tr><td style=\"border: 1px solid black; text-align: left;\"><font size=3>\n",
    "        \n",
    "○ 기본적인 FastAPI 사용법 학습하기<br>\n",
    "○ 웹 화면에 카메라 영상 출력하기<br>\n",
    "○ 웹 출력 영상을 Gray 이미지로 출력하기        \n",
    "</font></td></tr>   \n",
    "</table>"
   ]
  },
  {
   "cell_type": "markdown",
   "metadata": {},
   "source": [
    "# FastAPI 설치 및 서버 실행하기\n",
    "\n",
    "- <font color=red>FastAPI</font> : Sebastián Ramírez란 사람이 만든 파이썬 기반 오픈소스 웹 프레임워크\n",
    "  - 파이썬 3.6 이상 \n",
    "  - 빠른(고성능) API 서버 웹 프레임워크\n",
    "  - Flask나 Django보다 단순하고 배우기 쉬움 \n",
    "  - GitHub : https://github.com/tiangolo/fastapi\n",
    "  - 튜토리얼 : https://fastapi.tiangolo.com/ko/\n",
    "  - 다양한 형태의 Response : https://fastapi.tiangolo.com/ko/advanced/custom-response/\n",
    "\n",
    "\n",
    "- ASGI(Asynchronous Server Gateway Interface) : 비동기 Python 웹 서버  \n",
    "  - 동기(synchronous) 처리 : 특정 작업이 끝나면 다음 작업을 처리하는 순차처리 방식\n",
    "    - 파이썬은 기본적으로 동기 방식으로 동작하는 - \n",
    "  - 비동기(asynchronous) 처리 : 여러 작업을 처리하도록 예약한 뒤 작업이 끝나면 결과를 받는 방식\n",
    "    - 스레드 하나로 동시 처리를 하기 위한 것\n",
    "\n",
    "  <img src=\"./lecture_image/04_fastapi06.png\" width=50%>  \n",
    "  \n",
    "\n",
    "- <font color=red>pyngrok</font> : 방화벽을 넘어서 외부에서 로컬에 접속 가능하게 하는 터널 프로그램\n",
    "\n",
    "\n",
    "- <font color=red>asyncio</font> : Python 표준 라이브러리와 함께 제공되는 비동기 I/O 프레임워크로 파이썬 3.4에서 추가\n",
    "\n",
    "\n",
    "- <font color=red>async / await</font> : 비동기(Asynchronous) 처리를 위해 파이썬 3.5에서 추가한 구문\n",
    "  - async : 비동기 함수를 생성하는 명령\n",
    "  - await : 비동기 함수를 호출하는 명령\n",
    "  \n",
    "  \n",
    "- <font color=red>nest_asyncio</font> : 비동기 방식에서 이벤트가 중첩되는 것을 허용하는 기능을 제공하는 라이브러리\n",
    "  \n",
    "  \n",
    "- <font color=red>uvloop</font> : asyncio를 대체하기 위해 제작\n",
    "  - 동기 함수 내에서 비동기 함수를 호출하려면 asyncio 라이브러리의 이벤트 루프를 이용하는 데 이를 대신하는 기능\n",
    "  \n",
    "  - Cython으로 작성\n",
    "  - libuv 위에 구축 (libuv : nodejs에서 사용하는 고성능 다중 플랫폼 비동기 I / O 라이브러리)\n",
    "  - 성능상에서 nodejs, gevent 및 기타 Python 비동기 프레임 워크보다 2배 이상 빠름\n",
    "    \n",
    "  \n",
    "- <font color=red>uvicorn</font> : uvloop 및 httptools를 사용하여 만든 빠른 ASGI (Asynchronous Server Gateway Inteface) 서버\n",
    "  - 다양한 관리 기능으로 fastapi와 함께 사용\n",
    "  - HTTP / 1.1 및 WebSocket을 지원"
   ]
  },
  {
   "cell_type": "markdown",
   "metadata": {},
   "source": [
    "## 동기 프로그래밍"
   ]
  },
  {
   "cell_type": "code",
   "execution_count": 1,
   "metadata": {
    "ExecuteTime": {
     "end_time": "2023-03-03T01:45:55.093933Z",
     "start_time": "2023-03-03T01:45:50.019466Z"
    }
   },
   "outputs": [
    {
     "name": "stdout",
     "output_type": "stream",
     "text": [
      "5명 중 1번째 사용자 조회중..\n",
      "5명 중 2번째 사용자 조회중..\n",
      "5명 중 3번째 사용자 조회중..\n",
      "5명 중 4번째 사용자 조회중..\n",
      "5명 중 5번째 사용자 조회중..\n",
      "> 층 5명 사용자 동기 조회 완료!!\n"
     ]
    }
   ],
   "source": [
    "#실습\n",
    "import time\n",
    "\n",
    "def find_users_sync(n):\n",
    "    for i in range(1, n+1) :\n",
    "        print(f'{n}명 중 {i}번째 사용자 조회중..')\n",
    "        time.sleep(1)\n",
    "    print(f\"> 층 {n}명 사용자 동기 조회 완료!!\")\n",
    "find_users_sync(5)"
   ]
  },
  {
   "cell_type": "markdown",
   "metadata": {},
   "source": [
    "- 3개의 요청을 동기 처리"
   ]
  },
  {
   "cell_type": "code",
   "execution_count": 3,
   "metadata": {
    "ExecuteTime": {
     "end_time": "2023-03-03T01:48:45.359799Z",
     "start_time": "2023-03-03T01:48:39.317448Z"
    }
   },
   "outputs": [
    {
     "name": "stdout",
     "output_type": "stream",
     "text": [
      "3명 중 1번째 사용자 조회중..\n",
      "3명 중 2번째 사용자 조회중..\n",
      "3명 중 3번째 사용자 조회중..\n",
      "> 층 3명 사용자 동기 조회 완료!!\n",
      "2명 중 1번째 사용자 조회중..\n",
      "2명 중 2번째 사용자 조회중..\n",
      "> 층 2명 사용자 동기 조회 완료!!\n",
      "1명 중 1번째 사용자 조회중..\n",
      "> 층 1명 사용자 동기 조회 완료!!\n",
      ">> 동기 방식으로 처리한 시간 : 6.024796724319458\n"
     ]
    }
   ],
   "source": [
    "#실습\n",
    "def procecc_sync() :\n",
    "    start = time.time()\n",
    "    find_users_sync(3)\n",
    "    find_users_sync(2)\n",
    "    find_users_sync(1)\n",
    "    end = time.time()\n",
    "    print(f'>> 동기 방식으로 처리한 시간 : {end-start}')\n",
    "procecc_sync()"
   ]
  },
  {
   "cell_type": "markdown",
   "metadata": {},
   "source": [
    "## 비동기 프로그래밍"
   ]
  },
  {
   "cell_type": "code",
   "execution_count": 4,
   "metadata": {
    "ExecuteTime": {
     "end_time": "2023-03-03T01:50:08.860309Z",
     "start_time": "2023-03-03T01:50:04.357120Z"
    }
   },
   "outputs": [
    {
     "name": "stdout",
     "output_type": "stream",
     "text": [
      "Requirement already satisfied: nest_asyncio in c:\\users\\smhrd\\anaconda3\\lib\\site-packages (1.5.5)\n",
      "Collecting fastapi\n",
      "  Downloading fastapi-0.92.0-py3-none-any.whl (56 kB)\n",
      "     ---------------------------------------- 56.2/56.2 kB 2.9 MB/s eta 0:00:00\n",
      "Collecting uvicorn\n",
      "  Downloading uvicorn-0.20.0-py3-none-any.whl (56 kB)\n",
      "     ---------------------------------------- 56.9/56.9 kB ? eta 0:00:00\n",
      "Collecting starlette<0.26.0,>=0.25.0\n",
      "  Downloading starlette-0.25.0-py3-none-any.whl (66 kB)\n",
      "     ---------------------------------------- 66.4/66.4 kB 3.5 MB/s eta 0:00:00\n",
      "Collecting pydantic!=1.7,!=1.7.1,!=1.7.2,!=1.7.3,!=1.8,!=1.8.1,<2.0.0,>=1.6.2\n",
      "  Downloading pydantic-1.10.5-cp39-cp39-win_amd64.whl (2.2 MB)\n",
      "     ---------------------------------------- 2.2/2.2 MB 11.5 MB/s eta 0:00:00\n",
      "Requirement already satisfied: h11>=0.8 in c:\\users\\smhrd\\anaconda3\\lib\\site-packages (from uvicorn) (0.14.0)\n",
      "Requirement already satisfied: click>=7.0 in c:\\users\\smhrd\\anaconda3\\lib\\site-packages (from uvicorn) (8.0.4)\n",
      "Requirement already satisfied: colorama in c:\\users\\smhrd\\anaconda3\\lib\\site-packages (from click>=7.0->uvicorn) (0.4.5)\n",
      "Requirement already satisfied: typing-extensions>=4.2.0 in c:\\users\\smhrd\\anaconda3\\lib\\site-packages (from pydantic!=1.7,!=1.7.1,!=1.7.2,!=1.7.3,!=1.8,!=1.8.1,<2.0.0,>=1.6.2->fastapi) (4.3.0)\n",
      "Requirement already satisfied: anyio<5,>=3.4.0 in c:\\users\\smhrd\\anaconda3\\lib\\site-packages (from starlette<0.26.0,>=0.25.0->fastapi) (3.5.0)\n",
      "Requirement already satisfied: idna>=2.8 in c:\\users\\smhrd\\anaconda3\\lib\\site-packages (from anyio<5,>=3.4.0->starlette<0.26.0,>=0.25.0->fastapi) (3.3)\n",
      "Requirement already satisfied: sniffio>=1.1 in c:\\users\\smhrd\\anaconda3\\lib\\site-packages (from anyio<5,>=3.4.0->starlette<0.26.0,>=0.25.0->fastapi) (1.2.0)\n",
      "Installing collected packages: pydantic, uvicorn, starlette, fastapi\n",
      "Successfully installed fastapi-0.92.0 pydantic-1.10.5 starlette-0.25.0 uvicorn-0.20.0\n"
     ]
    }
   ],
   "source": [
    "!pip install nest_asyncio fastapi uvicorn "
   ]
  },
  {
   "cell_type": "code",
   "execution_count": 7,
   "metadata": {
    "ExecuteTime": {
     "end_time": "2023-03-03T02:10:31.333172Z",
     "start_time": "2023-03-03T02:10:31.314250Z"
    }
   },
   "outputs": [
    {
     "data": {
      "text/plain": [
       "<coroutine object find_users_async at 0x000002C993E117C0>"
      ]
     },
     "execution_count": 7,
     "metadata": {},
     "output_type": "execute_result"
    }
   ],
   "source": [
    "#실습\n",
    "import time\n",
    "import asyncio\n",
    "\n",
    "# async : 비동기 함수 선언(코루틴 함수)\n",
    "async def find_users_async(n):\n",
    "    for i in range(1, n+1) :\n",
    "        print(f'{n}명 중 {i}번째 사용자 조회중..')\n",
    "        await asyncio.sleep(1)\n",
    "    print(f\"> 층 {n}명 사용자 동기 조회 완료!!\")\n",
    "find_users_async(5)"
   ]
  },
  {
   "cell_type": "markdown",
   "metadata": {},
   "source": [
    "- await asyncio.wait() : 여러 개의 코루틴 함수를 호출\n",
    "- asyncio.run() : 코루틴 함수를 실행"
   ]
  },
  {
   "cell_type": "code",
   "execution_count": 8,
   "metadata": {
    "ExecuteTime": {
     "end_time": "2023-03-03T02:10:35.933792Z",
     "start_time": "2023-03-03T02:10:32.900058Z"
    }
   },
   "outputs": [
    {
     "name": "stderr",
     "output_type": "stream",
     "text": [
      "C:\\Users\\smhrd\\AppData\\Local\\Temp\\ipykernel_1320\\1448993586.py:10: DeprecationWarning: The explicit passing of coroutine objects to asyncio.wait() is deprecated since Python 3.8, and scheduled for removal in Python 3.11.\n",
      "  await asyncio.wait([find_users_async(3),\n"
     ]
    },
    {
     "name": "stdout",
     "output_type": "stream",
     "text": [
      "2명 중 1번째 사용자 조회중..\n",
      "3명 중 1번째 사용자 조회중..\n",
      "1명 중 1번째 사용자 조회중..\n",
      "2명 중 2번째 사용자 조회중..\n",
      "3명 중 2번째 사용자 조회중..\n",
      "> 층 1명 사용자 동기 조회 완료!!\n",
      "> 층 2명 사용자 동기 조회 완료!!\n",
      "3명 중 3번째 사용자 조회중..\n",
      "> 층 3명 사용자 동기 조회 완료!!\n",
      ">> 비동기 방식으로 처리한 시간 : 3.016613483428955\n"
     ]
    }
   ],
   "source": [
    "#실습\n",
    "import nest_asyncio\n",
    "\n",
    "# 다중 작업 간의 메시지 교환\n",
    "nest_asyncio.apply()\n",
    "\n",
    "async def process_async() :\n",
    "    start = time.time()\n",
    "    \n",
    "    await asyncio.wait([find_users_async(3),\n",
    "                       find_users_async(2),\n",
    "                       find_users_async(1)])\n",
    "    end = time.time()\n",
    "    print(f'>> 비동기 방식으로 처리한 시간 : {end-start}')\n",
    "asyncio.run(process_async())"
   ]
  },
  {
   "cell_type": "markdown",
   "metadata": {},
   "source": [
    "##  FastAPI 설치하기"
   ]
  },
  {
   "cell_type": "code",
   "execution_count": null,
   "metadata": {},
   "outputs": [],
   "source": [
    "!pip install fastapi uvicorn pyngrok nest_asyncio"
   ]
  },
  {
   "cell_type": "markdown",
   "metadata": {},
   "source": [
    "## FastAPI 서버 실행하기\n",
    "\n",
    "- 참고 : https://blog.naver.com/PostView.naver?blogId=duqrlwjddns1&logNo=222268635237&parentCategoryNo=&categoryNo=&viewDate=&isShowPopularPosts=false&from=postView\n",
    "\n",
    "\n",
    "- 비동기 처리(asyncio)는 Jupyter Notebook 환경에서 지원하지 않음\n",
    "\n",
    "\n",
    "- <font color=red>app = FastAPI()</font> : FastAPI 객체를 app 변수에 할당\n",
    "- <font color=red>nest_asyncio.apply()</font> : 이벤트 루프\n",
    "- <font color=red>@app.get(\"/\")</font> : GET 메소드로 root url을 접속하는 경우\n",
    "- <font color=red>async def root()</font> : root() 비동기 함수 (native coroutine)을 만듬\n",
    "- <font color=red>return {\"message\": \"Hello World\"}</font> : message 변수로 해당 값을 JSON 형태로 반환\n",
    "- <font color=red>uvicorn.run(app, host=\"127.0.0.1\", port=8000)</font> : app 객체에 IP와 Port 설정\n",
    "\n",
    "<img src=\"./lecture_image/04_fastapi01.png\" width=50%> "
   ]
  },
  {
   "cell_type": "code",
   "execution_count": 13,
   "metadata": {
    "ExecuteTime": {
     "end_time": "2023-03-03T02:37:33.403498Z",
     "start_time": "2023-03-03T02:29:48.972174Z"
    },
    "collapsed": true
   },
   "outputs": [
    {
     "name": "stderr",
     "output_type": "stream",
     "text": [
      "INFO:     Started server process [1320]\n",
      "INFO:     Waiting for application startup.\n",
      "INFO:     Application startup complete.\n",
      "INFO:     Uvicorn running on http://222.102.104.124:9000 (Press CTRL+C to quit)\n"
     ]
    },
    {
     "name": "stdout",
     "output_type": "stream",
     "text": [
      "INFO:     222.102.104.124:58219 - \"GET / HTTP/1.1\" 200 OK\n",
      "INFO:     220.80.88.59:56041 - \"GET / HTTP/1.1\" 200 OK\n",
      "INFO:     220.80.88.59:56041 - \"GET /favicon.ico HTTP/1.1\" 404 Not Found\n",
      "INFO:     121.147.0.150:50724 - \"GET / HTTP/1.1\" 200 OK\n",
      "INFO:     121.147.0.150:50724 - \"GET / HTTP/1.1\" 200 OK\n",
      "INFO:     211.227.224.143:64562 - \"GET / HTTP/1.1\" 200 OK\n",
      "INFO:     211.227.224.143:64562 - \"GET /favicon.ico HTTP/1.1\" 404 Not Found\n",
      "INFO:     121.147.0.150:50730 - \"GET / HTTP/1.1\" 200 OK\n",
      "INFO:     211.227.224.143:64563 - \"GET / HTTP/1.1\" 200 OK\n",
      "INFO:     59.0.129.109:52358 - \"GET / HTTP/1.1\" 200 OK\n",
      "INFO:     59.0.129.109:52358 - \"GET /favicon.ico HTTP/1.1\" 404 Not Found\n",
      "INFO:     211.63.240.30:56053 - \"GET / HTTP/1.1\" 200 OK\n",
      "INFO:     211.63.240.30:56053 - \"GET /favicon.ico HTTP/1.1\" 404 Not Found\n",
      "INFO:     211.223.37.213:59832 - \"GET / HTTP/1.1\" 200 OK\n",
      "INFO:     211.223.37.213:59832 - \"GET /favicon.ico HTTP/1.1\" 404 Not Found\n",
      "INFO:     1.254.179.100:64618 - \"GET / HTTP/1.1\" 200 OK\n",
      "INFO:     121.147.52.45:56224 - \"GET / HTTP/1.1\" 200 OK\n",
      "INFO:     121.147.52.45:56224 - \"GET /favicon.ico HTTP/1.1\" 404 Not Found\n",
      "INFO:     211.63.240.30:56054 - \"GET / HTTP/1.1\" 200 OK\n",
      "INFO:     222.102.104.70:52734 - \"GET / HTTP/1.1\" 200 OK\n",
      "INFO:     222.102.104.70:52734 - \"GET /favicon.ico HTTP/1.1\" 404 Not Found\n",
      "INFO:     222.102.104.230:62210 - \"GET / HTTP/1.1\" 200 OK\n",
      "INFO:     222.102.104.230:62210 - \"GET /favicon.ico HTTP/1.1\" 404 Not Found\n",
      "INFO:     222.102.104.124:58512 - \"GET / HTTP/1.1\" 200 OK\n",
      "INFO:     218.149.140.29:51261 - \"GET / HTTP/1.1\" 200 OK\n",
      "INFO:     218.149.140.29:51261 - \"GET /favicon.ico HTTP/1.1\" 404 Not Found\n",
      "INFO:     59.0.236.161:65387 - \"GET / HTTP/1.1\" 200 OK\n",
      "INFO:     59.0.236.161:65387 - \"GET /favicon.ico HTTP/1.1\" 404 Not Found\n",
      "INFO:     218.157.24.37:53254 - \"GET / HTTP/1.1\" 200 OK\n",
      "INFO:     218.157.24.37:53254 - \"GET /favicon.ico HTTP/1.1\" 404 Not Found\n",
      "INFO:     59.0.124.121:6997 - \"GET / HTTP/1.1\" 200 OK\n",
      "INFO:     59.0.124.121:6997 - \"GET /favicon.ico HTTP/1.1\" 404 Not Found\n",
      "INFO:     218.149.140.96:55711 - \"GET / HTTP/1.1\" 200 OK\n",
      "INFO:     218.149.140.96:55711 - \"GET /favicon.ico HTTP/1.1\" 404 Not Found\n"
     ]
    },
    {
     "name": "stderr",
     "output_type": "stream",
     "text": [
      "INFO:     Shutting down\n",
      "INFO:     Waiting for application shutdown.\n",
      "INFO:     Application shutdown complete.\n",
      "INFO:     Finished server process [1320]\n"
     ]
    }
   ],
   "source": [
    "#실습\n",
    "from fastapi import FastAPI\n",
    "import nest_asyncio\n",
    "import uvicorn\n",
    "\n",
    "# 웹 서버 초기화\n",
    "app =FastAPI()\n",
    "nest_asyncio.apply()\n",
    "\n",
    "# 라우터 설정(get방식, root)\n",
    "@app.get('/')\n",
    "async def root() :\n",
    "    return {'message' : '김다희임 !!'}\n",
    "\n",
    "# 메인함수람녀 (파이썬을 단독으로 실행했다면)\n",
    "if __name__ =='__main__' :\n",
    "    # 서버시작\n",
    "    uvicorn.run(app,host ='222.102.104.124',port=9000)\n",
    "    \n"
   ]
  },
  {
   "cell_type": "markdown",
   "metadata": {},
   "source": [
    "### URL를 함수로 연결하기\n",
    "\n",
    "- <font color=red>@app.get(\"/hello\")</font>\n",
    "  - URL에  함수명을 설정\n",
    "  - 브라우저에서 IP와 포트로 서버 접속하고 URL로 함수명을 넘김\n",
    "  \n",
    "  <img src=\"./lecture_image/04_fastapi02.png\" width=50%> "
   ]
  },
  {
   "cell_type": "code",
   "execution_count": 15,
   "metadata": {
    "ExecuteTime": {
     "end_time": "2023-03-03T02:38:39.184601Z",
     "start_time": "2023-03-03T02:38:30.683061Z"
    }
   },
   "outputs": [
    {
     "name": "stderr",
     "output_type": "stream",
     "text": [
      "INFO:     Started server process [1320]\n",
      "INFO:     Waiting for application startup.\n",
      "INFO:     Application startup complete.\n",
      "INFO:     Uvicorn running on http://222.102.104.124:9000 (Press CTRL+C to quit)\n",
      "INFO:     Shutting down\n",
      "INFO:     Waiting for application shutdown.\n",
      "INFO:     Application shutdown complete.\n",
      "INFO:     Finished server process [1320]\n"
     ]
    }
   ],
   "source": [
    "#실습\n",
    "\n",
    "from fastapi import FastAPI\n",
    "import nest_asyncio\n",
    "import uvicorn\n",
    "\n",
    "# 웹 서버 초기화\n",
    "app =FastAPI()\n",
    "nest_asyncio.apply()\n",
    "\n",
    "# 라우터 설정(get방식, root)\n",
    "@app.get('/hello')\n",
    "async def root() :\n",
    "    return {'message' : '준연이임 !!'}\n",
    "\n",
    "# 메인함수람녀 (파이썬을 단독으로 실행했다면)\n",
    "if __name__ =='__main__' :\n",
    "    # 서버시작\n",
    "    uvicorn.run(app,host ='222.102.104.124',port=9000)"
   ]
  },
  {
   "cell_type": "markdown",
   "metadata": {},
   "source": [
    "### URL을 변수로 사용하기\n",
    "\n",
    "- <font color=red>@app.get(\"/hello/{value}\")</font> \n",
    "  - URL에  value 값을 설정\n",
    "  - 브라우저에서 IP와 포트로 서버 접속하고 URL로 100을 넘김\n",
    "    \n",
    "  <img src=\"./lecture_image/04_fastapi03.png\" width=50%>     "
   ]
  },
  {
   "cell_type": "code",
   "execution_count": 18,
   "metadata": {
    "ExecuteTime": {
     "end_time": "2023-03-03T02:44:39.853040Z",
     "start_time": "2023-03-03T02:42:01.889577Z"
    }
   },
   "outputs": [
    {
     "name": "stderr",
     "output_type": "stream",
     "text": [
      "INFO:     Started server process [1320]\n",
      "INFO:     Waiting for application startup.\n",
      "INFO:     Application startup complete.\n",
      "INFO:     Uvicorn running on http://222.102.104.124:9000 (Press CTRL+C to quit)\n"
     ]
    },
    {
     "name": "stdout",
     "output_type": "stream",
     "text": [
      "INFO:     222.102.104.124:59031 - \"GET / HTTP/1.1\" 404 Not Found\n",
      "INFO:     222.102.104.124:59033 - \"GET /hello/1004 HTTP/1.1\" 200 OK\n"
     ]
    },
    {
     "name": "stderr",
     "output_type": "stream",
     "text": [
      "INFO:     Shutting down\n",
      "INFO:     Waiting for application shutdown.\n",
      "INFO:     Application shutdown complete.\n",
      "INFO:     Finished server process [1320]\n"
     ]
    }
   ],
   "source": [
    "#실습\n",
    "from fastapi import FastAPI\n",
    "import nest_asyncio\n",
    "import uvicorn\n",
    "\n",
    "# 웹 서버 초기화\n",
    "app =FastAPI()\n",
    "nest_asyncio.apply()\n",
    "\n",
    "# value : 클라이언트에서 넘긴 값을 받는 변수\n",
    "@app.get('/hello/{value}')\n",
    "async def root(value) :\n",
    "    return {'message' : value}\n",
    "\n",
    "# 메인함수람녀 (파이썬을 단독으로 실행했다면)\n",
    "if __name__ =='__main__' :\n",
    "    # 서버시작\n",
    "    uvicorn.run(app,host ='222.102.104.124',port=9000)"
   ]
  },
  {
   "cell_type": "markdown",
   "metadata": {},
   "source": [
    "### html 문서를 반환하기\n",
    "\n",
    "#### 코드 형태로 반환하기\n",
    "\n",
    "- <font color=red>@app.get(\"/\", response_class=HTMLResponse)</font>\n",
    "  - HTML 문서를 반환\n",
    "\n",
    "- 브라우저에서 IP와 포트로 서버 접속\n",
    "\n",
    "  <img src=\"./lecture_image/04_fastapi04.png\" width=50%>  "
   ]
  },
  {
   "cell_type": "code",
   "execution_count": 23,
   "metadata": {
    "ExecuteTime": {
     "end_time": "2023-03-03T02:49:29.048406Z",
     "start_time": "2023-03-03T02:48:12.256756Z"
    }
   },
   "outputs": [
    {
     "name": "stderr",
     "output_type": "stream",
     "text": [
      "INFO:     Started server process [1320]\n",
      "INFO:     Waiting for application startup.\n",
      "INFO:     Application startup complete.\n",
      "INFO:     Uvicorn running on http://222.102.104.124:9000 (Press CTRL+C to quit)\n"
     ]
    },
    {
     "name": "stdout",
     "output_type": "stream",
     "text": [
      "INFO:     222.102.104.124:59358 - \"GET / HTTP/1.1\" 200 OK\n"
     ]
    },
    {
     "name": "stderr",
     "output_type": "stream",
     "text": [
      "INFO:     Shutting down\n",
      "INFO:     Waiting for application shutdown.\n",
      "INFO:     Application shutdown complete.\n",
      "INFO:     Finished server process [1320]\n"
     ]
    }
   ],
   "source": [
    "#실습\n",
    "\n",
    "from fastapi import FastAPI\n",
    "import nest_asyncio\n",
    "import uvicorn\n",
    "from fastapi.responses import HTMLResponse\n",
    "\n",
    "# 웹 서버 초기화\n",
    "app =FastAPI()\n",
    "nest_asyncio.apply()\n",
    "\n",
    "# value : 클라이언트에서 넘긴 값을 받는 변수\n",
    "@app.get('/',response_class=HTMLResponse)\n",
    "async def root() :\n",
    "    return \"\"\"\n",
    "    <html><body>\n",
    "    <h1>안녕하세요 !!</h1>\n",
    "    </body></html>\n",
    "    \"\"\"\n",
    "\n",
    "# 메인함수람녀 (파이썬을 단독으로 실행했다면)\n",
    "if __name__ =='__main__' :\n",
    "    # 서버시작\n",
    "    uvicorn.run(app,host ='222.102.104.124',port=9000)"
   ]
  },
  {
   "cell_type": "markdown",
   "metadata": {},
   "source": [
    "#### 파일 형태로 반환하기\n",
    "\n",
    "- <font color=red>@app.get(\"/\", response_class=FileResponse)</font>\n",
    "  - 파일 문서를 반환\n",
    "  \n",
    "- templates 폴더에 저장\n",
    "- %%writefile 명령 위쪽에는 아무 내용도 있으면 안됨 (무조건 첫 줄에 작성)\n",
    "    - 해당 명령 다음에 있는 내용을 파일에 저장하는 기능"
   ]
  },
  {
   "cell_type": "code",
   "execution_count": 25,
   "metadata": {
    "ExecuteTime": {
     "end_time": "2023-03-03T03:07:38.922776Z",
     "start_time": "2023-03-03T03:07:38.905818Z"
    }
   },
   "outputs": [
    {
     "name": "stdout",
     "output_type": "stream",
     "text": [
      "Overwriting ./templates/index.html\n"
     ]
    }
   ],
   "source": [
    "%%writefile ./templates/index.html\n",
    "<html><body>\n",
    "    <h1>안녕하세요 !! <br>FAST API입니다</h1>\n",
    "</body></html>\n"
   ]
  },
  {
   "cell_type": "code",
   "execution_count": 27,
   "metadata": {
    "ExecuteTime": {
     "end_time": "2023-03-03T03:09:47.981933Z",
     "start_time": "2023-03-03T03:08:07.895873Z"
    }
   },
   "outputs": [
    {
     "name": "stderr",
     "output_type": "stream",
     "text": [
      "INFO:     Started server process [1320]\n",
      "INFO:     Waiting for application startup.\n",
      "INFO:     Application startup complete.\n",
      "INFO:     Uvicorn running on http://222.102.104.124:9000 (Press CTRL+C to quit)\n"
     ]
    },
    {
     "name": "stdout",
     "output_type": "stream",
     "text": [
      "INFO:     222.102.104.124:60501 - \"GET / HTTP/1.1\" 200 OK\n"
     ]
    },
    {
     "name": "stderr",
     "output_type": "stream",
     "text": [
      "INFO:     Shutting down\n",
      "INFO:     Waiting for application shutdown.\n",
      "INFO:     Application shutdown complete.\n",
      "INFO:     Finished server process [1320]\n"
     ]
    }
   ],
   "source": [
    "\n",
    "#실습\n",
    "from fastapi import FastAPI\n",
    "import nest_asyncio\n",
    "import uvicorn\n",
    "from fastapi.responses import FileResponse\n",
    "\n",
    "# 웹 서버 초기화\n",
    "app =FastAPI()\n",
    "nest_asyncio.apply()\n",
    "\n",
    "# value : 클라이언트에서 넘긴 값을 받는 변수\n",
    "@app.get('/',response_class=FileResponse)\n",
    "async def root() :\n",
    "    return './templates/index.html'\n",
    " \n",
    "\n",
    "# 메인함수람녀 (파이썬을 단독으로 실행했다면)\n",
    "if __name__ =='__main__' :\n",
    "    # 서버시작\n",
    "    uvicorn.run(app,host ='222.102.104.124',port=9000)"
   ]
  },
  {
   "cell_type": "markdown",
   "metadata": {},
   "source": [
    "### 이미지가 포함된 HTML 문서 반환하기\n",
    "\n",
    "- static 폴더 : 자원을 담아 놓는 폴더\n",
    "- static 폴더에 이미지 폴더를 만들고 출력할 이미지를 저장\n",
    "\n",
    "- jinja2 : HTML 문서에서 파이썬 코드를 사용하도록 지원하는 라이브러리 (JSP와 유사)\n"
   ]
  },
  {
   "cell_type": "code",
   "execution_count": 28,
   "metadata": {
    "ExecuteTime": {
     "end_time": "2023-03-03T03:10:22.885768Z",
     "start_time": "2023-03-03T03:10:19.761631Z"
    }
   },
   "outputs": [
    {
     "name": "stdout",
     "output_type": "stream",
     "text": [
      "Requirement already satisfied: jinja2 in c:\\users\\smhrd\\anaconda3\\lib\\site-packages (2.11.3)\n",
      "Requirement already satisfied: MarkupSafe>=0.23 in c:\\users\\smhrd\\anaconda3\\lib\\site-packages (from jinja2) (2.0.1)\n"
     ]
    }
   ],
   "source": [
    "!pip install jinja2"
   ]
  },
  {
   "cell_type": "code",
   "execution_count": 29,
   "metadata": {
    "ExecuteTime": {
     "end_time": "2023-03-03T03:19:24.207022Z",
     "start_time": "2023-03-03T03:19:24.197049Z"
    }
   },
   "outputs": [
    {
     "name": "stdout",
     "output_type": "stream",
     "text": [
      "Writing ./templates/index2.html\n"
     ]
    }
   ],
   "source": [
    "%%writefile ./templates/index2.html\n",
    "<html><body>\n",
    "    <h1>안녕하세요 !! <br>FAST API입니다</h1>\n",
    "    <img src='{{url_for('static',path='기은수.jfif') }}'>\n",
    "</body></html>"
   ]
  },
  {
   "cell_type": "markdown",
   "metadata": {},
   "source": [
    "- <font color=red>Jinja2Templates(directory=\"templates/\")</font>\n",
    "\n",
    "  - Jinja2 템플릿 사용\n",
    "  \n",
    "  \n",
    "- <font color=red>app.mount(\"/static\", StaticFiles(directory=\"static\", html=True), name=\"static\")</font>  \n",
    "\n",
    "  - \"/static\" : 마운트할 경로 \n",
    "  - directory=\"static\" : 정적파일이 들어 있는 폴더명\n",
    "  - html=True : HTML 문서 여부\n",
    "  - name=\"static\" : FastAPI에서 내부적으로 사용할 이름\n",
    "  \n",
    "  \n",
    "- <font color=red>templates.TemplateResponse(\"imgdisp2.html\", {\"request\": request})  </font>  \n",
    "\n",
    "  - Jinja 템플릿으로 구성된 HTML 문서를 request한 위치로 반환"
   ]
  },
  {
   "cell_type": "code",
   "execution_count": 30,
   "metadata": {
    "ExecuteTime": {
     "end_time": "2023-03-03T03:36:18.073197Z",
     "start_time": "2023-03-03T03:22:44.104706Z"
    }
   },
   "outputs": [
    {
     "name": "stderr",
     "output_type": "stream",
     "text": [
      "INFO:     Started server process [1320]\n",
      "INFO:     Waiting for application startup.\n",
      "INFO:     Application startup complete.\n",
      "INFO:     Uvicorn running on http://222.102.104.124:9000 (Press CTRL+C to quit)\n"
     ]
    },
    {
     "name": "stdout",
     "output_type": "stream",
     "text": [
      "INFO:     222.102.104.124:61421 - \"GET / HTTP/1.1\" 200 OK\n",
      "INFO:     222.102.104.124:61421 - \"GET /%EA%B8%B0%EC%9D%80%EC%88%98.jfif HTTP/1.1\" 200 OK\n"
     ]
    },
    {
     "name": "stderr",
     "output_type": "stream",
     "text": [
      "INFO:     Shutting down\n",
      "INFO:     Waiting for application shutdown.\n",
      "INFO:     Application shutdown complete.\n",
      "INFO:     Finished server process [1320]\n"
     ]
    }
   ],
   "source": [
    "#실습\n",
    "from fastapi import FastAPI, Request\n",
    "import nest_asyncio\n",
    "import uvicorn\n",
    "from fastapi.responses import HTMLResponse\n",
    "from fastapi.templating import Jinja2Templates\n",
    "from fastapi.staticfiles import StaticFiles\n",
    "\n",
    "# 웹 서버 초기화\n",
    "app =FastAPI()\n",
    "nest_asyncio.apply()\n",
    "\n",
    "#Jinja 템플릿이 포함된 HTML 문서의 위치\n",
    "templates = Jinja2Templates(directory=\"templates/\")\n",
    "# 이미지의 위치\n",
    "app.mount('/static',StaticFiles(directory='static',html=True),name='static')\n",
    "\n",
    "# value : 클라이언트에서 넘긴 값을 받는 변수\n",
    "@app.get('/',response_class=HTMLResponse)\n",
    "async def root(request : Request) :\n",
    "    # 클라이언트(request)를 설정\n",
    "    return templates.TemplateResponse('index2.html',{'request':request})\n",
    " \n",
    "\n",
    "# 메인함수람녀 (파이썬을 단독으로 실행했다면)\n",
    "if __name__ =='__main__' :\n",
    "    # 서버시작\n",
    "    uvicorn.run(app,host ='222.102.104.124',port=9000)"
   ]
  },
  {
   "cell_type": "markdown",
   "metadata": {},
   "source": [
    "# 데이터 스트리밍 구현\n",
    "\n",
    "## 구현 방법\n",
    "\n",
    "- <font color=red>StreamingResponse(test())</font>\n",
    "  - 스트리밍 함수로 test()를 실행\n",
    "  \n",
    "  <img src=\"./lecture_image/04_fastapi05.png\" width=50%>  "
   ]
  },
  {
   "cell_type": "code",
   "execution_count": 13,
   "metadata": {},
   "outputs": [],
   "source": [
    "#실습"
   ]
  },
  {
   "cell_type": "markdown",
   "metadata": {},
   "source": [
    "- yield() 함수 배우기\n",
    "\n",
    "  \n",
    "  <img src=\"./lecture_image/04_yield.png\" width=70%>  "
   ]
  },
  {
   "cell_type": "code",
   "execution_count": 14,
   "metadata": {},
   "outputs": [],
   "source": [
    "#실습"
   ]
  },
  {
   "cell_type": "code",
   "execution_count": 15,
   "metadata": {},
   "outputs": [],
   "source": [
    "#실습 "
   ]
  },
  {
   "cell_type": "markdown",
   "metadata": {},
   "source": [
    "## 웹 브라우저에 카메라 영상 출력하기"
   ]
  },
  {
   "cell_type": "markdown",
   "metadata": {},
   "source": [
    "- index.html를 작성하고 templates 폴더에 저장\n",
    "  - video_feed : 실행할 함수명\n",
    "  \n",
    "  \n",
    "- Jinja 템플릿\n",
    "    - 간단한 문법으로 html에서 {}, {{}} 등의 규칙을 이용하여 python 프로그래밍이 가능\n",
    "    - 데이터를 담은 변수를 return값으로 html과 함께 넘겨준 뒤, html에서 jinja 템플릿 규칙에 따라 화면에 표현할 수 있음\n",
    "    - Jinja 템플릿 html에서 주석은 {# 주석으로 처리할 내용 #}으로 표시\n",
    "    - Jinja2 Tempaltes 변수 넘기기 : {{ 변수명 }}\n",
    "    \n",
    "  - 참고 \n",
    "    - https://velog.io/@jewon119/01.Flask-기초-Jinja-template \n",
    "    - https://jinja.palletsprojects.com/en/2.11.x/templates/\n",
    "  \n",
    "  \n",
    "- <font color=red>url_for()</font> : URL 주소값을 가져온다"
   ]
  },
  {
   "cell_type": "code",
   "execution_count": 32,
   "metadata": {
    "ExecuteTime": {
     "end_time": "2023-03-03T03:39:38.393899Z",
     "start_time": "2023-03-03T03:39:38.374969Z"
    }
   },
   "outputs": [
    {
     "name": "stdout",
     "output_type": "stream",
     "text": [
      "Writing ./templates/index3.html\n"
     ]
    }
   ],
   "source": [
    "%%writefile ./templates/index3.html\n",
    "<html><body>\n",
    "    <h1>cctv 영상 </h1>\n",
    "    <img src='{{url_for('video_feed') }}'>\n",
    "</body></html>"
   ]
  },
  {
   "cell_type": "markdown",
   "metadata": {},
   "source": [
    "- <font color=red>ret, buffer = cv2.imencode('.jpg', frame)</font> : frame 이미지를 jpg로 인코딩\n",
    "\n",
    "- <font color=red>frame = buffer.tobytes()</font> : 전송을 위해 인코딩된 이미지를 byte 형식으로 변환\n",
    "\n",
    "\n",
    "- <font color=red>yield (b'--frame\\r\\n' b'Content-Type: image/jpeg\\r\\n\\r\\n' + frame + b'\\r\\n') </font>\n",
    "\n",
    "  - b : byte 형식임을 의미\n",
    "  - --frame : 프레임을 표시\n",
    "  - Content-Type: image/jpeg : 문서가 jpg 이미지임을 표시\n",
    "  \n",
    "  \n",
    "- <font color=red>StreamingResponse(get_frames(), media_type=\"multipart/x-mixed-replace; boundary=frame\")</font>\n",
    "\n",
    "  - get_frames() : 호출할 함수명\n",
    "  - mimetype : 클라이언트에게 전송된 문서의 타입을 알려주기 위한 파라미터 (type/subtype)\n",
    "  - multipart : 복합문서 타입 (파일, 영상 등)을 의미\n",
    "  - x-mixed-replace : x (추가적인 확장 형식), mixed (복합문서), repalce (subtype을 다음 메시지로 대체)\n",
    "  - boundary : 복합문서 내의 각 문서들을 구분하는 분리자 (동영상이므로 frame으로 구분)"
   ]
  },
  {
   "cell_type": "markdown",
   "metadata": {},
   "source": [
    "- 이미지 전송 부분을 동기방식으로 구현하는 경우"
   ]
  },
  {
   "cell_type": "code",
   "execution_count": 17,
   "metadata": {},
   "outputs": [],
   "source": [
    "#실습"
   ]
  },
  {
   "cell_type": "markdown",
   "metadata": {},
   "source": [
    "- 이미지 전송 부분을 비동기 방식으로 구현한 경우"
   ]
  },
  {
   "cell_type": "code",
   "execution_count": null,
   "metadata": {
    "ExecuteTime": {
     "start_time": "2023-03-03T03:49:59.627Z"
    }
   },
   "outputs": [
    {
     "name": "stderr",
     "output_type": "stream",
     "text": [
      "INFO:     Started server process [1320]\n",
      "INFO:     Waiting for application startup.\n",
      "INFO:     Application startup complete.\n",
      "INFO:     Uvicorn running on http://222.102.104.124:9000 (Press CTRL+C to quit)\n"
     ]
    },
    {
     "name": "stdout",
     "output_type": "stream",
     "text": [
      "INFO:     222.102.104.124:62900 - \"GET / HTTP/1.1\" 200 OK\n",
      "INFO:     222.102.104.124:62900 - \"GET /video_feed HTTP/1.1\" 200 OK\n"
     ]
    }
   ],
   "source": [
    "#실습\n",
    "import cv2\n",
    "import nest_asyncio\n",
    "import asyncio\n",
    "import uvicorn\n",
    "from fastapi import FastAPI, Request\n",
    "from fastapi.templating import Jinja2Templates\n",
    "from fastapi.responses import StreamingResponse\n",
    "\n",
    "app =FastAPI()\n",
    "nest_asyncio.apply()\n",
    "templates = Jinja2Templates(directory='templates/')\n",
    "\n",
    "cap = cv2.VideoCapture('./images/video.mp4')\n",
    "\n",
    "async def get_frames() :\n",
    "    while cap.isOpened():\n",
    "        ret, frame = cap.read()\n",
    "        cv2.waitKey(33)\n",
    "        \n",
    "        if not ret:\n",
    "            continue\n",
    "        else :\n",
    "            _, buffer =cv2.imencode('.jpg',frame)\n",
    "            frame = buffer.tobytes()\n",
    "            \n",
    "        yield (b'--frame\\r\\n' b'Content-Type: image/jpeg\\r\\n\\r\\n' + frame + b'\\r\\n')\n",
    "        \n",
    "@app.get('/')\n",
    "async def foot(request : Request) :\n",
    "    return templates.TemplateResponse('index3.html',{'request' : request})\n",
    "\n",
    "@app.get('/video_feed')\n",
    "async def video_feed() : \n",
    "    return StreamingResponse(get_frames(), media_type=\"multipart/x-mixed-replace; boundary=frame\")\n",
    "\n",
    "if __name__ == '__main__':\n",
    "    uvicorn.run(app,host ='222.102.104.124',port=9000)"
   ]
  },
  {
   "cell_type": "markdown",
   "metadata": {},
   "source": [
    "## 웹 출력 영상을 Gray 이미지로 출력하기"
   ]
  },
  {
   "cell_type": "code",
   "execution_count": 1,
   "metadata": {},
   "outputs": [],
   "source": [
    "#실습"
   ]
  },
  {
   "cell_type": "code",
   "execution_count": 21,
   "metadata": {},
   "outputs": [],
   "source": [
    "#실습"
   ]
  },
  {
   "cell_type": "markdown",
   "metadata": {},
   "source": [
    "<table border=1 width=100%>\n",
    "    <tr><td style=\"border: 1px solid black; width:600px; text-align: left;\"><font size=4 color=red><b>실습문제</b></font><br><br>\n",
    "        <font size=4>\n",
    "○ 이진 이미지를 출력하는 웹 카메라 만들기<br>\n",
    "   - threshold() 함수 적용<br>\n",
    "   - OTSU 이진화 알고리즘 적용<br>\n",
    "   - 적응형 thresholding 적용</font></td></tr>       \n",
    "    <tr><td style=\"border: 1px solid black; text-align: left;\">\n",
    "        <img src=\"./lecture_image/04_flask06.png\" width=30%><img src=\"./lecture_image/04_flask07.png\" width=30%></td></tr>   \n",
    "</table>"
   ]
  },
  {
   "cell_type": "markdown",
   "metadata": {},
   "source": [
    "<table border=1 width=100%>\n",
    "    <tr><td style=\"border: 1px solid black; width:600px; height:40px; text-align: center;\"><font size=4 color=blue><b>[4차시] 학습요약</b></font></td></tr>       \n",
    "    <tr><td style=\"border: 1px solid black; text-align: left;\"><font size=3>\n",
    "        \n",
    "○ <font color=red>ret, buffer = cv2.imencode()</font> : 영상 인코딩 함수<br>\n",
    "○ yield() : 반복 실행 중에 중간 과정을 반환할 때 사용<br>\n",
    "\n",
    "○ FastAPI : 파이썬으로 제작된 웹 프레임워크 (DJango의 축소 버전)<br>\n",
    "        \n",
    "○ <font color=red>app = FastAPI()</font> : FastAPI 객체를 app 변수에 할당<br>\n",
    "○ <font color=red>nest_asyncio.apply()</font> : FastAPI와 uvicorn 연결<br>\n",
    "○ <font color=red>@app.get(\"/\")</font> : FastAPI에게 어떤 URL이 get방식으로 해당 함수를 실행하는지 알려줌<br>\n",
    "○ <font color=red>@app.get(\"/hello\")</font> : 서버 주소에 추가적인 URL을 설정<br>\n",
    "○ <font color=red>@app.get(\"/hello/{value}\")</font> : URL에 value 값을 설정<br>\n",
    "○ <font color=red>uvicorn.run(app, host=\"127.0.0.1\", port=9600)</font> : 서버 IP, 포트 등을 설정하고 서버를 실행<br>\n",
    "\n",
    "○ <font color=red>HTMLResponse()</font> : html 문서를 반환하기<br>\n",
    "○ <font color=red>FileResponse()</font> : 파일로 된 문서를 반환하기<br>\n",
    "○ <font color=red>TemplateResponse()</font> : 템플릿 형태로 된 문서를 반환하기<br>\n",
    "○ <font color=red>StreamingResponse(stream_with_context())</font> : 데이터 스트리밍을 반환하기\n",
    "        \n",
    "</font></td></tr>   \n",
    "</table>"
   ]
  }
 ],
 "metadata": {
  "colab": {
   "name": "DL008_01_OpenCV.ipynb",
   "provenance": []
  },
  "hide_input": false,
  "kernelspec": {
   "display_name": "Python 3 (ipykernel)",
   "language": "python",
   "name": "python3"
  },
  "language_info": {
   "codemirror_mode": {
    "name": "ipython",
    "version": 3
   },
   "file_extension": ".py",
   "mimetype": "text/x-python",
   "name": "python",
   "nbconvert_exporter": "python",
   "pygments_lexer": "ipython3",
   "version": "3.9.13"
  },
  "toc": {
   "base_numbering": 1,
   "nav_menu": {},
   "number_sections": true,
   "sideBar": true,
   "skip_h1_title": false,
   "title_cell": "Table of Contents",
   "title_sidebar": "Contents",
   "toc_cell": false,
   "toc_position": {
    "height": "calc(100% - 180px)",
    "left": "10px",
    "top": "150px",
    "width": "165px"
   },
   "toc_section_display": true,
   "toc_window_display": true
  }
 },
 "nbformat": 4,
 "nbformat_minor": 1
}
